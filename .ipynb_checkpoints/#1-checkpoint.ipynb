{
 "cells": [
  {
   "cell_type": "code",
   "execution_count": null,
   "metadata": {},
   "outputs": [],
   "source": [
    "from dolfin import *\n",
    "from IPython.display import display, HTML\n",
    "\n",
    "# Create mesh and define function space\n",
    "mesh = UnitCubeMesh(8,8,8)\n",
    "V = FunctionSpace(mesh, \"Lagrange\", 1)\n",
    "\n",
    "# Define boundary condition\n",
    "u0 = Function(V)\n",
    "bc = DirichletBC(V, u0, \"x[0] < DOLFIN_EPS || x[0] > 1.0 - DOLFIN_EPS\")\n",
    "\n",
    "# Define variational problem\n",
    "u = TrialFunction(V)\n",
    "v = TestFunction(V)\n",
    "f = Expression(\"10*exp(-(pow(x[0] - 0.5, 2) + pow(x[1] - 0.5, 2)) / 0.02)\",\n",
    "               degree=1)\n",
    "g = Expression(\"sin(5*x[0])\", degree=1)\n",
    "a = inner(grad(u), grad(v))*dx()\n",
    "L = f*v*dx() + g*v*ds()\n",
    "\n",
    "# Define function for the solution\n",
    "u = Function(V)\n",
    "\n",
    "# Define goal functional (quantity of interest)\n",
    "M = u*dx()\n",
    "\n",
    "# Define error tolerance\n",
    "tol = 1.e-5\n",
    "\n",
    "# Solve equation a = L with respect to u and the given boundary\n",
    "# conditions, such that the estimated error (measured in M) is less\n",
    "# than tol\n",
    "problem = LinearVariationalProblem(a, L, u, bc)\n",
    "solver = AdaptiveLinearVariationalSolver(problem, M)\n",
    "solver.parameters[\"error_control\"][\"dual_variational_solver\"][\"linear_solver\"] = \"cg\"\n",
    "solver.solve(tol)\n",
    "\n",
    "solver.summary()\n",
    "\n",
    "# Plot solution(s)\n",
    "#plot(u.root_node(), title=\"Solution on initial mesh\")\n",
    "#plot(u.leaf_node(), title=\"Solution on final mesh\")\n",
    "\n",
    "HTML(X3DOM().html(u.leaf_node()))"
   ]
  },
  {
   "cell_type": "code",
   "execution_count": 1,
   "metadata": {},
   "outputs": [
    {
     "name": "stdout",
     "output_type": "stream",
     "text": [
      "Once deleted, variables cannot be recovered. Proceed (y/[n])? y\n"
     ]
    }
   ],
   "source": [
    "%reset"
   ]
  },
  {
   "cell_type": "code",
   "execution_count": null,
   "metadata": {
    "collapsed": true
   },
   "outputs": [],
   "source": []
  }
 ],
 "metadata": {
  "kernelspec": {
   "display_name": "Python 3",
   "language": "python",
   "name": "python3"
  },
  "language_info": {
   "codemirror_mode": {
    "name": "ipython",
    "version": 3
   },
   "file_extension": ".py",
   "mimetype": "text/x-python",
   "name": "python",
   "nbconvert_exporter": "python",
   "pygments_lexer": "ipython3",
   "version": "3.5.4"
  }
 },
 "nbformat": 4,
 "nbformat_minor": 2
}
