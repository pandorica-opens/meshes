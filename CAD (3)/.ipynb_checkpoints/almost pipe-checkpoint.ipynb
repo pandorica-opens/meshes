{
 "cells": [
  {
   "cell_type": "code",
   "execution_count": 69,
   "metadata": {},
   "outputs": [
    {
     "name": "stdout",
     "output_type": "stream",
     "text": [
      "['/opt/conda/lib/python3.5/site-packages/numpy']\n"
     ]
    }
   ],
   "source": [
    "import random\n",
    "from OCC.Display.WebGl.x3dom_renderer import *\n",
    "from IPython.display import display, HTML\n",
    "%matplotlib inline\n",
    "caller_id = 0\n",
    "def DisplayShape(shape,\n",
    "                     vertex_shader=None,\n",
    "                     fragment_shader=None,\n",
    "                     export_edges=False,\n",
    "                     color=(random.random(), random.random(), random.random()),\n",
    "                     specular_color=(1, 1, 1),\n",
    "                     shininess=0.9,\n",
    "                     transparency=0.,\n",
    "                     line_color=(0, 0., 0.),\n",
    "                     line_width=2.,\n",
    "                     mesh_quality=1.):\n",
    "        def Show(src=\"<shape><appearance><material diffuseColor='0.603 0.894 0.909'></material></appearance> <box></box></shape>   \", height=400,  width=400):\n",
    "            width=str(width)\n",
    "            height=str(height)\n",
    "            result = \"\"\n",
    "            if(caller_id <2):\n",
    "                result += \" <script type='text/javascript' src='http://www.x3dom.org/download/x3dom.js'> </script>  <link rel='stylesheet' type='text/css' href='http://www.x3dom.org/download/x3dom.css'></link>\"\n",
    "           \n",
    "            result +=\"<div style='height: \"+height+\"px;width: 100%;' id='x3dholder_\"+str(caller_id)+\"'  width='100%' height='\"+height+\"px'><x3d style='height: \"+height+\"px;width: 100%;' id='x3d\"+str(caller_id)+\"' width='100%' height='\"+height+\"px'><scene>\"+src+\"   </scene></x3d> </div>\"\n",
    "            return result\n",
    "        x3d_exporter = X3DExporter(shape, vertex_shader, fragment_shader,\n",
    "                                   export_edges, color,\n",
    "                                   specular_color, shininess, transparency,\n",
    "                                   line_color, line_width, mesh_quality)\n",
    "        x3d_exporter.compute()\n",
    "        tmp = x3d_exporter.to_x3dfile_string()\n",
    "        temp_file_name = \"tmp_\"+str(++caller_id)+\".x3d\"\n",
    "        if os.path.exists(temp_file_name): os.remove(temp_file_name)\n",
    "        text_file = open(temp_file_name, \"w\")\n",
    "        text_file.write(tmp)\n",
    "        text_file.close()\n",
    "        return HTML(Show(\"<inline url='./\"+temp_file_name+\"'> </inline> \"))\n",
    "    \n",
    "\n",
    "import numpy\n",
    "print(numpy.__path__)"
   ]
  },
  {
   "cell_type": "code",
   "execution_count": 80,
   "metadata": {
    "scrolled": true
   },
   "outputs": [
    {
     "data": {
      "text/html": [
       " <script type='text/javascript' src='http://www.x3dom.org/download/x3dom.js'> </script>  <link rel='stylesheet' type='text/css' href='http://www.x3dom.org/download/x3dom.css'></link><div style='height: 400px;width: 100%;' id='x3dholder_0'  width='100%' height='400px'><x3d style='height: 400px;width: 100%;' id='x3d0' width='100%' height='400px'><scene><inline url='./tmp_0.x3d'> </inline>    </scene></x3d> </div>"
      ],
      "text/plain": [
       "<IPython.core.display.HTML object>"
      ]
     },
     "metadata": {},
     "output_type": "display_data"
    }
   ],
   "source": [
    "from OCC.Display.WebGl import x3dom_renderer\n",
    "from OCC.BRepPrimAPI import BRepPrimAPI_MakeSphere\n",
    "from OCC.BRepBuilderAPI import BRepBuilderAPI_MakeEdge, BRepBuilderAPI_MakeWire\n",
    "from OCC.BRepOffsetAPI import BRepOffsetAPI_MakePipe\n",
    "from OCC.BRepAlgoAPI import BRepAlgoAPI_Fuse\n",
    "from OCC.BRepFeat import BRepFeat_Gluer\n",
    "from OCC.gp import gp_Vec\n",
    "from OCC.Display.WebGl.x3dom_renderer import *\n",
    "from OCC.GeomAPI import GeomAPI_PointsToBSpline\n",
    "\n",
    "from utils import *\n",
    "from dolfin import *\n",
    "\n",
    "result =\"\"\n",
    "for i in range(1):\n",
    "    box_shp1 = BRepPrimAPI_MakeSphere(random.random()*20).Shape()\n",
    "    \n",
    "    array2 = TColgp_Array1OfPnt(1, 3)\n",
    "    array2.SetValue(1, gp_Pnt(0, 0, 20))\n",
    "    array2.SetValue(2, gp_Pnt(0, 0, 30))\n",
    "    array2.SetValue(3, gp_Pnt(0, 0, 40))\n",
    "    bspline2 = GeomAPI_PointsToBSpline(array2).Curve()\n",
    "    path_edge = BRepBuilderAPI_MakeEdge(bspline2).Edge()\n",
    "    \n",
    "    wire = BRepBuilderAPI_MakeWire(path_edge).Wire()\n",
    "    \n",
    "    array = TColgp_Array1OfPnt(1, 5)\n",
    "    array.SetValue(1, gp_Pnt(10, 0, 0))\n",
    "    array.SetValue(2, gp_Pnt(0, 10, 0))\n",
    "    array.SetValue(3, gp_Pnt(-10, 0, 0))\n",
    "    array.SetValue(4, gp_Pnt(0, -10, 0))\n",
    "    array.SetValue(5, gp_Pnt(10, 0, 0))\n",
    "    bspline = GeomAPI_PointsToBSpline(array).Curve()\n",
    "    \n",
    "    edge = BRepBuilderAPI_MakeEdge(bspline).Edge()\n",
    "    \n",
    "    box_shp3 = BRepOffsetAPI_MakePipe(wire, edge).Shape()\n",
    "    # box_shp3 = BRepAlgoAPI_Fuse(box_shp1, box_shp2).Shape()\n",
    "    \n",
    "    # random position and orientation and color\n",
    "    angle_x = random.random()*360\n",
    "    angle_y = random.random()*360\n",
    "    angle_z = random.random()*360\n",
    "    rotated_box = rotate_shp_3_axis(box_shp3, angle_x, angle_y, angle_z, 'deg')\n",
    "    tr_x = random.uniform(-20, 20)\n",
    "    tr_y = random.uniform(-20, 20)\n",
    "    tr_z = random.uniform(-20, 20)\n",
    "    trans_box = translate_shp(rotated_box, gp_Vec(tr_x, tr_y, tr_z))\n",
    "    rnd_color = (random.random(), random.random(), random.random())\n",
    "    result = DisplayShape(trans_box, export_edges=True, color=rnd_color, transparency=random.random())\n",
    "\n",
    "display(result)\n"
   ]
  },
  {
   "cell_type": "code",
   "execution_count": 107,
   "metadata": {},
   "outputs": [
    {
     "data": {
      "text/html": [
       " <script type='text/javascript' src='http://www.x3dom.org/download/x3dom.js'> </script>  <link rel='stylesheet' type='text/css' href='http://www.x3dom.org/download/x3dom.css'></link><div style='height: 400px;width: 100%;' id='x3dholder_0'  width='100%' height='400px'><x3d style='height: 400px;width: 100%;' id='x3d0' width='100%' height='400px'><scene><inline url='./tmp_0.x3d'> </inline>    </scene></x3d> </div>"
      ],
      "text/plain": [
       "<IPython.core.display.HTML object>"
      ]
     },
     "metadata": {},
     "output_type": "display_data"
    },
    {
     "data": {
      "text/html": [
       " <script type='text/javascript' src='http://www.x3dom.org/download/x3dom.js'> </script>  <link rel='stylesheet' type='text/css' href='http://www.x3dom.org/download/x3dom.css'></link><div style='height: 400px;width: 100%;' id='x3dholder_0'  width='100%' height='400px'><x3d style='height: 400px;width: 100%;' id='x3d0' width='100%' height='400px'><scene><inline url='./tmp_0.x3d'> </inline>    </scene></x3d> </div>"
      ],
      "text/plain": [
       "<IPython.core.display.HTML object>"
      ]
     },
     "metadata": {},
     "output_type": "display_data"
    }
   ],
   "source": [
    "import os\n",
    "from OCC.StlAPI import StlAPI_Writer\n",
    "from OCC.BRepMesh import BRepMesh_IncrementalMesh\n",
    "\n",
    "# first, create the shape\n",
    "array2 = TColgp_Array1OfPnt(1, 3)\n",
    "array2.SetValue(1, gp_Pnt(0, 0, 10))\n",
    "array2.SetValue(2, gp_Pnt(0, 0, 20))\n",
    "array2.SetValue(3, gp_Pnt(0, 0, 30))\n",
    "bspline2 = GeomAPI_PointsToBSpline(array2).Curve()\n",
    "path_edge = BRepBuilderAPI_MakeEdge(bspline2).Edge()\n",
    "    \n",
    "wire = BRepBuilderAPI_MakeWire(path_edge).Wire()\n",
    "    \n",
    "array = TColgp_Array1OfPnt(1, 5)\n",
    "array.SetValue(1, gp_Pnt(10, 0, 0))\n",
    "array.SetValue(2, gp_Pnt(0, 10, 0))\n",
    "array.SetValue(3, gp_Pnt(-10, 0, 0))\n",
    "array.SetValue(4, gp_Pnt(0, -10, 0))\n",
    "array.SetValue(5, gp_Pnt(10, 0, 0))\n",
    "bspline = GeomAPI_PointsToBSpline(array).Curve()\n",
    "    \n",
    "edge = BRepBuilderAPI_MakeEdge(bspline).Edge()\n",
    "    \n",
    "my_pipe = BRepOffsetAPI_MakePipe(wire, edge).Shape()\n",
    "\n",
    "geometry = DisplayShape(my_pipe)\n",
    "display(geometry)\n",
    "\n",
    "# then mesh it. This mesh is used by the STL exporter\n",
    "# Note : if the mesh is not performed, the STL exporter\n",
    "# won't do nothing\n",
    "mesh = BRepMesh_IncrementalMesh(my_pipe, 0.6)\n",
    "mesh.Perform()\n",
    "\n",
    "stl_file = \"./pipe_low_resolution.stl\"\n",
    "stl_exporter = StlAPI_Writer()\n",
    "stl_exporter.SetASCIIMode(True)  # change to False if you need binary export\n",
    "stl_exporter.Write(my_pipe, stl_file)\n",
    "\n",
    "\n",
    "# then we change the mesh resolution\n",
    "#mesh.SetDeflection(0.05)\n",
    "\n",
    "\n",
    "from OCC.Display.SimpleGui import init_display\n",
    "from OCC.TopoDS import TopoDS_Shape\n",
    "from OCC.StlAPI import StlAPI_Reader\n",
    "\n",
    "stl_reader = StlAPI_Reader()\n",
    "fan_shp = TopoDS_Shape()\n",
    "stl_reader.Read(fan_shp, stl_file)\n",
    "\n",
    "exproted = DisplayShape(fan_shp)\n",
    "display(exproted)"
   ]
  },
  {
   "cell_type": "code",
   "execution_count": 105,
   "metadata": {},
   "outputs": [
    {
     "name": "stdout",
     "output_type": "stream",
     "text": [
      "b\"Unexpected end of /proc/mounts line `overlay / overlay rw,relatime,lowerdir=/var/lib/docker/overlay2/l/DN66G33K7VLT36V3EOPQLEWVKT:/var/lib/docker/overlay2/l/NASXZFW5UZSQSPRPWTFPSLGZSB:/var/lib/docker/overlay2/l/3ECOUWQRCKNRCEZG5GXQMRNLTF:/var/lib/docker/overlay2/l/MT2KF5SWYZ3KLOSGTZXDDDTXL6:/var/lib/docker/overlay2/l/EWEHL722SMA77OPCL7Z7PQNDA6:/var/lib/docker/overlay2/l/2TLN6ME67TLH32WHOCBDOTGBJ5:/var/lib/docker/overlay2/l/BKVVY5T4QQM5UXVSSPTXS5GRWW:/var/lib/docker/overlay2/l/TKQIIDSHVJFLRHEPHYY3CAAHAD:/var/lib/docker/overlay2/l/SO2KFZ3ZNW5BZ'\\nUnexpected end of /proc/mounts line `6TNOMT7SWI4QT:/var/lib/docker/overlay2/l/KC24YTY2DUOXVESTMWBUNKEELF:/var/lib/docker/overlay2/l/5LZJR6HPC6SOVIDRDUD6FYPSWS:/var/lib/docker/overlay2/l/QJC6JUMCQMEGBE6GOTCCFF3GYJ:/var/lib/docker/overlay2/l/GGYWY3YMFNXLK4F25ZO3SFQZ35:/var/lib/docker/overlay2/l/PAPT7ON6DZMSQHSWBGYLYGWK6G:/var/lib/docker/overlay2/l/2W4UA2QEVRB2OJCHP5VPPOECF7:/var/lib/docker/overlay2/l/JMDH77HDS2KU5VT27MMBAVQHB2,upperdir=/var/lib/docker/overlay2/9f012d2475f5bfaf886345c0a1913d793d5f2bec8ca291233c97e09409b6bb80/diff,workdir=/var/li'\\n\\x1b[1m\\x1b[31mFatal   : Can't open display:  (FLTK internal error)\\x1b[0m\\n--------------------------------------------------------------------------\\nMPI_ABORT was invoked on rank 0 in communicator MPI_COMM_WORLD \\nwith errorcode 1.\\n\\nNOTE: invoking MPI_ABORT causes Open MPI to kill all MPI processes.\\nYou may or may not see output from other processes, depending on\\nexactly when Open MPI kills them.\\n--------------------------------------------------------------------------\\n\"\n"
     ]
    }
   ],
   "source": [
    "import subprocess\n",
    "geoCounter = 0\n",
    "def getGeo(stl_filename):\n",
    "    geoFile = \"Merge \\\"\"+stl_filename+\"\\\";\\nSurface Loop(1) = {1};\\nVolume(1) = {1};\\nPhysical Volume(1) = {1};\\n\"\n",
    "    temp_file_name = \"tmp_\"+str(++geoCounter)+\".geo\"\n",
    "    if os.path.exists(temp_file_name): os.remove(temp_file_name)\n",
    "    text_file = open(temp_file_name, \"w\")\n",
    "    text_file.write(geoFile)\n",
    "    text_file.close()\n",
    "    return temp_file_name;\n",
    "out = \"\"\n",
    "try:\n",
    "    out = subprocess.check_output(\n",
    "            [\"gmsh\", \"gmsh -2 -algo del3d tmp_0.geo -o SFM.msh\"],\n",
    "            stderr=subprocess.STDOUT\n",
    "            ).strip().decode('utf8')\n",
    "except subprocess.CalledProcessError as e:\n",
    "    out = e.output\n",
    "    \n",
    "getGeo(stl_file)\n",
    "print(out)"
   ]
  },
  {
   "cell_type": "code",
   "execution_count": 106,
   "metadata": {
    "scrolled": true
   },
   "outputs": [
    {
     "name": "stdout",
     "output_type": "stream",
     "text": [
      "Unexpected end of /proc/mounts line `overlay / overlay rw,relatime,lowerdir=/var/lib/docker/overlay2/l/DN66G33K7VLT36V3EOPQLEWVKT:/var/lib/docker/overlay2/l/NASXZFW5UZSQSPRPWTFPSLGZSB:/var/lib/docker/overlay2/l/3ECOUWQRCKNRCEZG5GXQMRNLTF:/var/lib/docker/overlay2/l/MT2KF5SWYZ3KLOSGTZXDDDTXL6:/var/lib/docker/overlay2/l/EWEHL722SMA77OPCL7Z7PQNDA6:/var/lib/docker/overlay2/l/2TLN6ME67TLH32WHOCBDOTGBJ5:/var/lib/docker/overlay2/l/BKVVY5T4QQM5UXVSSPTXS5GRWW:/var/lib/docker/overlay2/l/TKQIIDSHVJFLRHEPHYY3CAAHAD:/var/lib/docker/overlay2/l/SO2KFZ3ZNW5BZ'\n",
      "Unexpected end of /proc/mounts line `6TNOMT7SWI4QT:/var/lib/docker/overlay2/l/KC24YTY2DUOXVESTMWBUNKEELF:/var/lib/docker/overlay2/l/5LZJR6HPC6SOVIDRDUD6FYPSWS:/var/lib/docker/overlay2/l/QJC6JUMCQMEGBE6GOTCCFF3GYJ:/var/lib/docker/overlay2/l/GGYWY3YMFNXLK4F25ZO3SFQZ35:/var/lib/docker/overlay2/l/PAPT7ON6DZMSQHSWBGYLYGWK6G:/var/lib/docker/overlay2/l/2W4UA2QEVRB2OJCHP5VPPOECF7:/var/lib/docker/overlay2/l/JMDH77HDS2KU5VT27MMBAVQHB2,upperdir=/var/lib/docker/overlay2/9f012d2475f5bfaf886345c0a1913d793d5f2bec8ca291233c97e09409b6bb80/diff,workdir=/var/li'\n",
      "Info    : Running 'gmsh -3 -algo pack tmp_0.geo -o SFM.msh' [Gmsh 2.10.1, 1 node, max. 1 thread]\n",
      "Info    : Started on Wed Jan 17 15:32:18 2018\n",
      "Info    : Reading 'tmp_0.geo'...\n",
      "Info    : Reading './pipe_low_resolution.stl'...\n",
      "Info    : 68 facets in solid 0\n",
      "Info    : Done reading './pipe_low_resolution.stl'\n",
      "Info    : Done reading 'tmp_0.geo'\n",
      "Info    : Meshing 1D...\n",
      "Info    : Done meshing 1D (0 s)\n",
      "Info    : Meshing 2D...\n",
      "Info    : Done meshing 2D (2.09808e-05 s)\n",
      "Info    : Meshing 3D...\n",
      "Info    : Delaunay Meshing 1 volumes with 1 connected components\n",
      "Info    : Meshing volume 1 (Delaunay)\n",
      "Delaunizing vertices...\n",
      "Delaunay seconds:  0.002323\n",
      "Creating surface mesh ...\n",
      "Surface mesh seconds:  0.000217\n",
      "Recovering boundaries...\n",
      "Boundary recovery seconds:  0.001953\n",
      "Removing exterior tetrahedra ...\n",
      "Exterior tets removal seconds:  9.4e-05\n",
      "Suppressing Steiner points ...\n",
      "Steiner suppression seconds:  0.00015\n",
      "Recovering Delaunayness...\n",
      "Delaunay recovery seconds:  6e-06\n",
      "Optimizing mesh...\n",
      "Optimization seconds:  4.3e-05\n",
      "Jettisoning redundant points.\n",
      "\n",
      "Writing nodes.\n",
      "Writing edges.\n",
      "\n",
      "Output seconds:  2.5e-05\n",
      "Total running seconds:  0.00492\n",
      "\n",
      "Statistics:\n",
      "\n",
      "  Input points: 68\n",
      "  Input facets: 68\n",
      "  Input segments: 136\n",
      "  Input holes: 0\n",
      "  Input regions: 0\n",
      "\n",
      "  Mesh points: 0\n",
      "  Mesh tetrahedra: 0\n",
      "  Mesh faces: 0\n",
      "  Mesh faces on facets: 0\n",
      "  Mesh edges on segments: 0\n",
      "\n",
      "Info    : 0 points 0 edges and 0 faces in the initial mesh\n",
      "\u001b[1m\u001b[31mError   : No tetrahedra in region 1 0\u001b[0m\n",
      "Info    : 3D point insertion terminated (0 points created):\n",
      "Info    :  - 0 Delaunay cavities modified for star shapeness\n",
      "Info    :  - 0 points could not be inserted\n",
      "Info    :  - 0 tetrahedra created in 0 sec. (-2147483648 tets/sec.)\n",
      "Info    : Done meshing 3D (0.004 s)\n",
      "Info    : 68 vertices 0 elements\n",
      "\u001b[1m\u001b[31mError   : ------------------------------\n",
      "Error   : Mesh generation error summary\n",
      "Error   :     0 warnings\n",
      "Error   :     1 error\n",
      "Error   : Check the full log for details\n",
      "Error   : ------------------------------\u001b[0m\n",
      "Info    : Writing 'SFM.msh'...\n",
      "Info    : Done writing 'SFM.msh'\n",
      "Info    : Stopped on Wed Jan 17 15:32:18 2018\n",
      "Converting from Gmsh format (.msh, .gmsh) to DOLFIN XML format\n",
      "*** No elements found in gmsh file.\n",
      "total 84\n",
      "drwxr-xr-x  4 root root  4096 Jan 17 15:32 .\n",
      "drwxr-xr-x 13 root root  4096 Jan 16 19:25 ..\n",
      "drwxr-xr-x  2 root root  4096 Jan 16 18:32 .ipynb_checkpoints\n",
      "-rw-r--r--  1 root root    79 Jan 17 15:32 SFM.msh\n",
      "drwxr-xr-x  2 root root  4096 Jan 16 18:05 __pycache__\n",
      "-rw-r--r--  1 root root 24110 Jan 17 15:28 almost pipe.ipynb\n",
      "-rw-r--r--  1 root root 17219 Jan 17 15:31 pipe_low_resolution.stl\n",
      "-rw-r--r--  1 root root     0 Jan 17 15:32 sfm.xml\n",
      "-rw-r--r--  1 root root   101 Jan 17 15:32 tmp_0.geo\n",
      "-rw-r--r--  1 root root  7698 Jan 17 15:31 tmp_0.x3d\n",
      "-rw-r--r--  1 root root  6591 Jan 16 18:04 utils.py\n"
     ]
    }
   ],
   "source": [
    "!gmsh -3 -algo pack tmp_0.geo -o SFM.msh\n",
    "#!gmsh -2 -algo meshadapt tmp_0.geo -o SFM.msh\n",
    "# should try Delaunay in script\n",
    "!dolfin-convert SFM.msh sfm.xml\n",
    "!ls -la"
   ]
  },
  {
   "cell_type": "code",
   "execution_count": 87,
   "metadata": {},
   "outputs": [
    {
     "ename": "RuntimeError",
     "evalue": "\n\n*** -------------------------------------------------------------------------\n*** DOLFIN encountered an error. If you are not able to resolve this issue\n*** using the information listed below, you can ask for help at\n***\n***     fenics-support@googlegroups.com\n***\n*** Remember to include the error message listed below and, if possible,\n*** include a *minimal* running example to reproduce the error.\n***\n*** -------------------------------------------------------------------------\n*** Error:   Unable to read data from XML file.\n*** Reason:  Not a DOLFIN XML file.\n*** Where:   This error was encountered inside XMLFile.cpp.\n*** Process: 0\n*** \n*** DOLFIN version: 2017.2.0\n*** Git changeset:  eff8a933c8ffe6b1204735d58ff25c5b75741fbe\n*** -------------------------------------------------------------------------\n",
     "output_type": "error",
     "traceback": [
      "\u001b[0;31m---------------------------------------------------------------------------\u001b[0m",
      "\u001b[0;31mRuntimeError\u001b[0m                              Traceback (most recent call last)",
      "\u001b[0;32m<ipython-input-87-ccc7742b980b>\u001b[0m in \u001b[0;36m<module>\u001b[0;34m()\u001b[0m\n\u001b[1;32m      1\u001b[0m \u001b[0;32mfrom\u001b[0m \u001b[0mdolfin\u001b[0m \u001b[0;32mimport\u001b[0m \u001b[0;34m*\u001b[0m\u001b[0;34m\u001b[0m\u001b[0m\n\u001b[0;32m----> 2\u001b[0;31m \u001b[0mmesh\u001b[0m \u001b[0;34m=\u001b[0m \u001b[0mMesh\u001b[0m\u001b[0;34m(\u001b[0m\u001b[0;34m\"./sfm.xml\"\u001b[0m\u001b[0;34m)\u001b[0m\u001b[0;34m\u001b[0m\u001b[0m\n\u001b[0m\u001b[1;32m      3\u001b[0m \u001b[0mV\u001b[0m \u001b[0;34m=\u001b[0m \u001b[0mFunctionSpace\u001b[0m\u001b[0;34m(\u001b[0m\u001b[0mmesh\u001b[0m\u001b[0;34m,\u001b[0m \u001b[0;34m\"CG\"\u001b[0m\u001b[0;34m,\u001b[0m \u001b[0;36m1\u001b[0m\u001b[0;34m)\u001b[0m\u001b[0;34m\u001b[0m\u001b[0m\n\u001b[1;32m      4\u001b[0m \u001b[0;34m\u001b[0m\u001b[0m\n\u001b[1;32m      5\u001b[0m \u001b[0;31m# Define variational problem\u001b[0m\u001b[0;34m\u001b[0m\u001b[0;34m\u001b[0m\u001b[0m\n",
      "\u001b[0;32m/opt/conda/lib/python3.5/site-packages/dolfin/mesh/meshes.py\u001b[0m in \u001b[0;36m__init__\u001b[0;34m(self, *args, **kwargs)\u001b[0m\n\u001b[1;32m     61\u001b[0m \u001b[0;34m\u001b[0m\u001b[0m\n\u001b[1;32m     62\u001b[0m     \u001b[0;31m# Initialize base class\u001b[0m\u001b[0;34m\u001b[0m\u001b[0;34m\u001b[0m\u001b[0m\n\u001b[0;32m---> 63\u001b[0;31m     \u001b[0mcpp\u001b[0m\u001b[0;34m.\u001b[0m\u001b[0mMesh\u001b[0m\u001b[0;34m.\u001b[0m\u001b[0m__cppinit__\u001b[0m\u001b[0;34m(\u001b[0m\u001b[0mself\u001b[0m\u001b[0;34m,\u001b[0m \u001b[0;34m*\u001b[0m\u001b[0margs\u001b[0m\u001b[0;34m,\u001b[0m \u001b[0;34m**\u001b[0m\u001b[0mkwargs\u001b[0m\u001b[0;34m)\u001b[0m\u001b[0;34m\u001b[0m\u001b[0m\n\u001b[0m\u001b[1;32m     64\u001b[0m \u001b[0;34m\u001b[0m\u001b[0m\n\u001b[1;32m     65\u001b[0m \u001b[0;31m# Change mesh constructor\u001b[0m\u001b[0;34m\u001b[0m\u001b[0;34m\u001b[0m\u001b[0m\n",
      "\u001b[0;32m/opt/conda/lib/python3.5/site-packages/dolfin/cpp/mesh.py\u001b[0m in \u001b[0;36m__init__\u001b[0;34m(self, *args)\u001b[0m\n\u001b[1;32m   1706\u001b[0m \u001b[0;34m\u001b[0m\u001b[0m\n\u001b[1;32m   1707\u001b[0m         \"\"\"\n\u001b[0;32m-> 1708\u001b[0;31m         \u001b[0m_mesh\u001b[0m\u001b[0;34m.\u001b[0m\u001b[0mMesh_swiginit\u001b[0m\u001b[0;34m(\u001b[0m\u001b[0mself\u001b[0m\u001b[0;34m,\u001b[0m \u001b[0m_mesh\u001b[0m\u001b[0;34m.\u001b[0m\u001b[0mnew_Mesh\u001b[0m\u001b[0;34m(\u001b[0m\u001b[0;34m*\u001b[0m\u001b[0margs\u001b[0m\u001b[0;34m)\u001b[0m\u001b[0;34m)\u001b[0m\u001b[0;34m\u001b[0m\u001b[0m\n\u001b[0m\u001b[1;32m   1709\u001b[0m     \u001b[0m__swig_destroy__\u001b[0m \u001b[0;34m=\u001b[0m \u001b[0m_mesh\u001b[0m\u001b[0;34m.\u001b[0m\u001b[0mdelete_Mesh\u001b[0m\u001b[0;34m\u001b[0m\u001b[0m\n\u001b[1;32m   1710\u001b[0m \u001b[0;34m\u001b[0m\u001b[0m\n",
      "\u001b[0;31mRuntimeError\u001b[0m: \n\n*** -------------------------------------------------------------------------\n*** DOLFIN encountered an error. If you are not able to resolve this issue\n*** using the information listed below, you can ask for help at\n***\n***     fenics-support@googlegroups.com\n***\n*** Remember to include the error message listed below and, if possible,\n*** include a *minimal* running example to reproduce the error.\n***\n*** -------------------------------------------------------------------------\n*** Error:   Unable to read data from XML file.\n*** Reason:  Not a DOLFIN XML file.\n*** Where:   This error was encountered inside XMLFile.cpp.\n*** Process: 0\n*** \n*** DOLFIN version: 2017.2.0\n*** Git changeset:  eff8a933c8ffe6b1204735d58ff25c5b75741fbe\n*** -------------------------------------------------------------------------\n"
     ]
    }
   ],
   "source": [
    "from dolfin import *\n",
    "mesh = Mesh(\"./sfm.xml\")\n",
    "V = FunctionSpace(mesh, \"CG\", 1)\n",
    "\n",
    "# Define variational problem\n",
    "u = TrialFunction(V)\n",
    "v = TestFunction(V)\n",
    "f = Constant(0.1)\n",
    "a = dot(grad(u), grad(v))*dx\n",
    "L = f*v*dx\n",
    "\n",
    "# Define boundary condition values\n",
    "u0 = Constant(0.0)\n",
    "u1 = Constant(1.0)\n",
    "u2 = Constant(2.0)\n",
    "u3 = Constant(3.0)\n",
    "\n",
    "# Define boundary conditions\n",
    "bc0 = DirichletBC(V, u0, 0)\n",
    "bc1 = DirichletBC(V, u1, 1)\n",
    "bc2 = DirichletBC(V, u2, 2)\n",
    "bc3 = DirichletBC(V, u3, 3)\n",
    "\n",
    "# Set PETSc MUMPS paramter (this is required to prevent a memory error\n",
    "# in some cases when using MUMPS LU solver).\n",
    "if has_petsc():\n",
    "    PETScOptions.set(\"mat_mumps_icntl_14\", 40.0)\n",
    "\n",
    "# Compute solution\n",
    "u = Function(V)\n",
    "solve(a == L, u, [bc0, bc1, bc2, bc3])\n",
    "\n",
    "# Write solution to file\n",
    "File(\"u.pvd\") << u\n",
    "HTML(X3DOM().html(u))"
   ]
  },
  {
   "cell_type": "code",
   "execution_count": null,
   "metadata": {
    "collapsed": true
   },
   "outputs": [],
   "source": []
  }
 ],
 "metadata": {
  "kernelspec": {
   "display_name": "Python 3",
   "language": "python",
   "name": "python3"
  },
  "language_info": {
   "codemirror_mode": {
    "name": "ipython",
    "version": 3
   },
   "file_extension": ".py",
   "mimetype": "text/x-python",
   "name": "python",
   "nbconvert_exporter": "python",
   "pygments_lexer": "ipython3",
   "version": "3.5.4"
  }
 },
 "nbformat": 4,
 "nbformat_minor": 2
}
